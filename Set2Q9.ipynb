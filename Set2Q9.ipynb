{
 "cells": [
  {
   "cell_type": "code",
   "execution_count": 1,
   "metadata": {},
   "outputs": [],
   "source": [
    "import pandas\n",
    "import numpy\n",
    "from sklearn import svm\n",
    "from sklearn.neural_network import MLPClassifier\n",
    "from sklearn.preprocessing import StandardScaler, LabelEncoder\n",
    "from sklearn.model_selection import train_test_split\n",
    "from sklearn.model_selection import KFold\n",
    "from sklearn.model_selection import cross_val_score"
   ]
  },
  {
   "cell_type": "code",
   "execution_count": 2,
   "metadata": {},
   "outputs": [],
   "source": [
    "#data = pandas.read_csv('Q9Data.csv', sep=',')\n",
    "data2 = pandas.read_excel('DataSet2.xlsx')\n"
   ]
  },
  {
   "cell_type": "code",
   "execution_count": 3,
   "metadata": {},
   "outputs": [
    {
     "data": {
      "text/plain": [
       "array(['g', 'b'], dtype=object)"
      ]
     },
     "execution_count": 3,
     "metadata": {},
     "output_type": "execute_result"
    }
   ],
   "source": [
    "data2['X35'].unique()"
   ]
  },
  {
   "cell_type": "code",
   "execution_count": 4,
   "metadata": {},
   "outputs": [],
   "source": [
    "label_X35 = LabelEncoder()\n",
    "data2['X35'] = label_X35.fit_transform(data2['X35'])\n",
    "#changes b and g to 0 and 1"
   ]
  },
  {
   "cell_type": "code",
   "execution_count": 5,
   "metadata": {},
   "outputs": [],
   "source": [
    "#data2['X35'].head(10)\n",
    "#data2['X35'].value_counts()\n",
    "#error checking"
   ]
  },
  {
   "cell_type": "code",
   "execution_count": 6,
   "metadata": {},
   "outputs": [],
   "source": [
    "X2 = data2.drop(['X35'], axis = 1)\n",
    "##print(X2)\n",
    "##The data set was slightly edited:\n",
    "##The columns names were changed to \"X0 - X35\" for easier use.\n",
    "Y2 = data2['X35']\n",
    "##print(Y2)"
   ]
  },
  {
   "cell_type": "code",
   "execution_count": 7,
   "metadata": {},
   "outputs": [],
   "source": [
    "X2_train, X2_test, Y2_train, Y2_test = train_test_split(X2, Y2, test_size = 0.2, random_state = 9)"
   ]
  },
  {
   "cell_type": "code",
   "execution_count": 8,
   "metadata": {},
   "outputs": [],
   "source": [
    "Scaler2 = StandardScaler()\n",
    "X2_train = Scaler2.fit_transform(X2_train)\n",
    "X2_test = Scaler2.transform(X2_test)\n",
    "#scaling may not have been necessary"
   ]
  },
  {
   "cell_type": "markdown",
   "metadata": {},
   "source": [
    "## Support Vector Machine SVM"
   ]
  },
  {
   "cell_type": "code",
   "execution_count": 9,
   "metadata": {},
   "outputs": [],
   "source": [
    "num_folds2 = 10\n",
    "k_fold2 = KFold(n_splits = num_folds2)\n",
    "test2 = svm.SVC(C=1, kernel = 'linear')\n",
    "\n",
    "##\n",
    "test22 = svm.SVC(C=1, kernel = 'poly')"
   ]
  },
  {
   "cell_type": "code",
   "execution_count": 10,
   "metadata": {},
   "outputs": [],
   "source": [
    "scores2 = cross_val_score(test2, X2, Y2, cv = 10, n_jobs = 3)\n",
    "\n",
    "scores22 = cross_val_score(test22, X2, Y2, cv = 10, n_jobs = 3)"
   ]
  },
  {
   "cell_type": "code",
   "execution_count": 11,
   "metadata": {},
   "outputs": [
    {
     "name": "stdout",
     "output_type": "stream",
     "text": [
      "   Linear kernel:\n",
      "0.8690476190476192\n",
      "   Poly kernel:\n",
      "0.8973015873015873\n"
     ]
    }
   ],
   "source": [
    "print(\"   Linear kernel:\")\n",
    "#print(scores2)\n",
    "print(numpy.mean(scores2))\n",
    "\n",
    "##\n",
    "\n",
    "print(\"   Poly kernel:\")\n",
    "#print(scores22)\n",
    "print(numpy.mean(scores22))"
   ]
  },
  {
   "cell_type": "markdown",
   "metadata": {},
   "source": [
    "## Neural Network MLP"
   ]
  },
  {
   "cell_type": "markdown",
   "metadata": {},
   "source": [
    "#### MLP Tanh"
   ]
  },
  {
   "cell_type": "code",
   "execution_count": 12,
   "metadata": {},
   "outputs": [],
   "source": [
    "test2MLP = MLPClassifier(activation = 'tanh', random_state = 9, max_iter = 1000)\n",
    "#doubling the max_iter (from 500) removed the convergence warning\n",
    "total1 = 0\n",
    "for X2_train, X2_test in k_fold2.split(X2):\n",
    "    test2MLP.fit(X2, Y2)\n",
    "    #print(testMLP.score(X2, Y2))\n",
    "    total1 = test2MLP.score(X2,Y2) + total1"
   ]
  },
  {
   "cell_type": "code",
   "execution_count": 13,
   "metadata": {},
   "outputs": [
    {
     "name": "stdout",
     "output_type": "stream",
     "text": [
      "0.9943019943019943\n"
     ]
    }
   ],
   "source": [
    "print(total1/num_folds2)"
   ]
  },
  {
   "cell_type": "markdown",
   "metadata": {},
   "source": [
    "#### MLP Relu"
   ]
  },
  {
   "cell_type": "code",
   "execution_count": 14,
   "metadata": {},
   "outputs": [],
   "source": [
    "test2MLP2 = MLPClassifier(activation = 'relu', random_state = 10, max_iter = 1000)\n",
    "total2 = 0\n",
    "for X2_train, X2_test in k_fold2.split(X2):\n",
    "    test2MLP2.fit(X2, Y2)\n",
    "    total2 = test2MLP2.score(X2,Y2) + total2"
   ]
  },
  {
   "cell_type": "code",
   "execution_count": 15,
   "metadata": {},
   "outputs": [
    {
     "name": "stdout",
     "output_type": "stream",
     "text": [
      "0.9971509971509972\n"
     ]
    }
   ],
   "source": [
    "print(total2/num_folds2)"
   ]
  },
  {
   "cell_type": "markdown",
   "metadata": {},
   "source": [
    "# Score comparison:"
   ]
  },
  {
   "cell_type": "code",
   "execution_count": 16,
   "metadata": {},
   "outputs": [
    {
     "name": "stdout",
     "output_type": "stream",
     "text": [
      "0.8690476190476192\n",
      "0.8973015873015873\n",
      "0.9943019943019943\n",
      "0.9971509971509972\n"
     ]
    }
   ],
   "source": [
    "print(numpy.mean(scores2))\n",
    "\n",
    "print(numpy.mean(scores22))\n",
    "\n",
    "print(total1/num_folds2)\n",
    "\n",
    "print(total2/num_folds2)"
   ]
  },
  {
   "cell_type": "markdown",
   "metadata": {},
   "source": [
    "# Report: (also found under problem 9)"
   ]
  },
  {
   "cell_type": "markdown",
   "metadata": {},
   "source": [
    "   SVM employs trial and error to predict the correct answer. This allows for many more incorrect answers than what Neural Networks allow for. Neural Networks and deep learning employ neurons to find patterns in the data in order to predict the correct answer. This is likely the reason that the Neural Network tests boast a higher accuracy rating.\n",
    "\n",
    "That said, the above reasoning is also likely the cause of the fact that the SVM tests finished significantly faster than the Neural Network tests. "
   ]
  },
  {
   "cell_type": "markdown",
   "metadata": {},
   "source": [
    "###### ___"
   ]
  },
  {
   "cell_type": "markdown",
   "metadata": {},
   "source": [
    "The Neural Network tests are clearly the better test in terms of accuracy. The NN tests boast a near +10 point difference over the SVM tests. This shows that, in terms of accuracy, Neural Networks are the way to go due to their testing methods, i.e. the use of neurons and layers in determining patterns to find the correct answer. However, Neural Networks are often more predominantly used for tasks of a much higher complexity and data size than a binary classification, such as the NN designed to identify handwritten numbers.\n",
    "\n",
    "As stated above, NN tests are more often used for tests of a higher complexity. This is highlighted in how much longer NN tests take to complete than SVM tests. Due to this, ultimately deciding which test is better is based on what the tester values the most. If the tester wants a much faster answer to a simpler problem, while sacrificing a bit of accuracy, SVM tests are the way to go. It can certainly be argued that NN tests and deep learning may be overkill for a binary classification. "
   ]
  }
 ],
 "metadata": {
  "kernelspec": {
   "display_name": "Python 3",
   "language": "python",
   "name": "python3"
  },
  "language_info": {
   "codemirror_mode": {
    "name": "ipython",
    "version": 3
   },
   "file_extension": ".py",
   "mimetype": "text/x-python",
   "name": "python",
   "nbconvert_exporter": "python",
   "pygments_lexer": "ipython3",
   "version": "3.7.6"
  }
 },
 "nbformat": 4,
 "nbformat_minor": 4
}
